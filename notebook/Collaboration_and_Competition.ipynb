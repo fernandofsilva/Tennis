{
 "cells": [
  {
   "cell_type": "markdown",
   "metadata": {},
   "source": [
    "# Collaboration and Competition\n",
    "\n",
    "---\n",
    "\n",
    "You are welcome to use this coding environment to train your agent for the project.  Follow the instructions below to get started!\n",
    "\n",
    "### 1. Start the Environment\n",
    "\n",
    "Run the next code cell to install a few packages.  This line will take a few minutes to run!"
   ]
  },
  {
   "cell_type": "code",
   "execution_count": 1,
   "metadata": {},
   "outputs": [
    {
     "name": "stdout",
     "output_type": "stream",
     "text": [
      "\u001B[31mtensorflow 1.7.1 has requirement numpy>=1.13.3, but you'll have numpy 1.12.1 which is incompatible.\u001B[0m\r\n",
      "\u001B[31mipython 6.5.0 has requirement prompt-toolkit<2.0.0,>=1.0.15, but you'll have prompt-toolkit 3.0.18 which is incompatible.\u001B[0m\r\n"
     ]
    }
   ],
   "source": [
    "!pip -q install ./python"
   ]
  },
  {
   "cell_type": "markdown",
   "metadata": {},
   "source": [
    "The environment is already saved in the Workspace and can be accessed at the file path provided below. "
   ]
  },
  {
   "cell_type": "code",
   "execution_count": 2,
   "metadata": {},
   "outputs": [
    {
     "name": "stderr",
     "output_type": "stream",
     "text": [
      "INFO:unityagents:\n",
      "'Academy' started successfully!\n",
      "Unity Academy name: Academy\n",
      "        Number of Brains: 1\n",
      "        Number of External Brains : 1\n",
      "        Lesson number : 0\n",
      "        Reset Parameters :\n",
      "\t\t\n",
      "Unity brain name: TennisBrain\n",
      "        Number of Visual Observations (per agent): 0\n",
      "        Vector Observation space type: continuous\n",
      "        Vector Observation space size (per agent): 8\n",
      "        Number of stacked Vector Observation: 3\n",
      "        Vector Action space type: continuous\n",
      "        Vector Action space size (per agent): 2\n",
      "        Vector Action descriptions: , \n"
     ]
    }
   ],
   "source": [
    "from unityagents import UnityEnvironment\n",
    "import numpy as np\n",
    "\n",
    "env = UnityEnvironment(file_name=\"/data/Tennis_Linux_NoVis/Tennis\")"
   ]
  },
  {
   "cell_type": "markdown",
   "metadata": {},
   "source": [
    "Environments contain **_brains_** which are responsible for deciding the actions of their associated agents. Here we check for the first brain available, and set it as the default brain we will be controlling from Python."
   ]
  },
  {
   "cell_type": "code",
   "execution_count": 3,
   "metadata": {},
   "outputs": [],
   "source": [
    "# get the default brain\n",
    "brain_name = env.brain_names[0]\n",
    "brain = env.brains[brain_name]"
   ]
  },
  {
   "cell_type": "markdown",
   "metadata": {},
   "source": [
    "### 2. Examine the State and Action Spaces\n",
    "\n",
    "Run the code cell below to print some information about the environment."
   ]
  },
  {
   "cell_type": "code",
   "execution_count": 4,
   "metadata": {},
   "outputs": [
    {
     "name": "stdout",
     "output_type": "stream",
     "text": [
      "Number of agents: 2\n",
      "Size of each action: 2\n",
      "There are 2 agents. Each observes a state with length: 24\n",
      "The state for the first agent looks like: [ 0.          0.          0.          0.          0.          0.          0.\n",
      "  0.          0.          0.          0.          0.          0.          0.\n",
      "  0.          0.         -6.65278625 -1.5        -0.          0.\n",
      "  6.83172083  6.         -0.          0.        ]\n"
     ]
    }
   ],
   "source": [
    "# reset the environment\n",
    "env_info = env.reset(train_mode=True)[brain_name]\n",
    "\n",
    "# number of agents \n",
    "num_agents = len(env_info.agents)\n",
    "print('Number of agents:', num_agents)\n",
    "\n",
    "# size of each action\n",
    "action_size = brain.vector_action_space_size\n",
    "print('Size of each action:', action_size)\n",
    "\n",
    "# examine the state space \n",
    "states = env_info.vector_observations\n",
    "state_size = states.shape[1]\n",
    "print('There are {} agents. Each observes a state with length: {}'.format(states.shape[0], state_size))\n",
    "print('The state for the first agent looks like:', states[0])"
   ]
  },
  {
   "cell_type": "markdown",
   "metadata": {},
   "source": [
    "### 3. Take Random Actions in the Environment\n",
    "\n",
    "In the next code cell, you will learn how to use the Python API to control the agent and receive feedback from the environment.\n",
    "\n",
    "Note that **in this coding environment, you will not be able to watch the agents while they are training**, and you should set `train_mode=True` to restart the environment."
   ]
  },
  {
   "cell_type": "code",
   "execution_count": 5,
   "metadata": {},
   "outputs": [
    {
     "name": "stdout",
     "output_type": "stream",
     "text": [
      "Total score (averaged over agents) this episode: -0.004999999888241291\n",
      "Total score (averaged over agents) this episode: 0.04500000085681677\n",
      "Total score (averaged over agents) this episode: -0.004999999888241291\n",
      "Total score (averaged over agents) this episode: -0.004999999888241291\n",
      "Total score (averaged over agents) this episode: -0.004999999888241291\n"
     ]
    }
   ],
   "source": [
    "for i in range(5):                                         # play game for 5 episodes\n",
    "    env_info = env.reset(train_mode=False)[brain_name]     # reset the environment    \n",
    "    states = env_info.vector_observations                  # get the current state (for each agent)\n",
    "    scores = np.zeros(num_agents)                          # initialize the score (for each agent)\n",
    "    while True:\n",
    "        actions = np.random.randn(num_agents, action_size) # select an action (for each agent)\n",
    "        actions = np.clip(actions, -1, 1)                  # all actions between -1 and 1\n",
    "        env_info = env.step(actions)[brain_name]           # send all actions to tne environment\n",
    "        next_states = env_info.vector_observations         # get next state (for each agent)\n",
    "        rewards = env_info.rewards                         # get reward (for each agent)\n",
    "        dones = env_info.local_done                        # see if episode finished\n",
    "        scores += env_info.rewards                         # update the score (for each agent)\n",
    "        states = next_states                               # roll over states to next time step\n",
    "        if np.any(dones):                                  # exit loop if episode finished\n",
    "            break\n",
    "    print('Total score (averaged over agents) this episode: {}'.format(np.mean(scores)))"
   ]
  },
  {
   "cell_type": "markdown",
   "metadata": {},
   "source": [
    "### 4. It's Your Turn!\n",
    "\n",
    "Now it's your turn to train your own agent to solve the environment!  A few **important notes**:\n",
    "- When training the environment, set `train_mode=True`, so that the line for resetting the environment looks like the following:\n",
    "```python\n",
    "env_info = env.reset(train_mode=True)[brain_name]\n",
    "```\n",
    "- To structure your work, you're welcome to work directly in this Jupyter notebook, or you might like to start over with a new file!  You can see the list of files in the workspace by clicking on **_Jupyter_** in the top left corner of the notebook.\n",
    "- In this coding environment, you will not be able to watch the agents while they are training.  However, **_after training the agents_**, you can download the saved model weights to watch the agents on your own machine! "
   ]
  },
  {
   "cell_type": "markdown",
   "metadata": {},
   "source": [
    "### 4.1 Define the Agent"
   ]
  },
  {
   "cell_type": "code",
   "execution_count": 6,
   "metadata": {},
   "outputs": [],
   "source": [
    "from monitor import interact\n",
    "from agent import Agent\n",
    "\n",
    "# reset the environment\n",
    "env_info = env.reset(train_mode=True)[brain_name]\n",
    "\n",
    "# Instantiate agent\n",
    "agent = Agent(\n",
    "    state_size=len(env_info.vector_observations[0]),\n",
    "    action_size=brain.vector_action_space_size,\n",
    "    num_agents=len(env_info.agents),\n",
    "    buffer_size=int(1e5),\n",
    "    batch_size=128,\n",
    "    gamma=0.99,\n",
    "    tau=1e-3,\n",
    "    lr_actor=1e-5,\n",
    "    lr_critic=1e-4,\n",
    "    weight_decay=0,\n",
    "    update_every=3,\n",
    "    seed=0\n",
    ")"
   ]
  },
  {
   "cell_type": "markdown",
   "metadata": {},
   "source": [
    "### 4.2 Run"
   ]
  },
  {
   "cell_type": "code",
   "execution_count": 7,
   "metadata": {},
   "outputs": [
    {
     "name": "stdout",
     "output_type": "stream",
     "text": [
      "Episode 100\tAverage Score: -0.00\n",
      "Episode 200\tAverage Score: 0.000\n",
      "Episode 300\tAverage Score: -0.00\n",
      "Episode 400\tAverage Score: 0.000\n",
      "Episode 500\tAverage Score: 0.000\n",
      "Episode 600\tAverage Score: 0.01\n",
      "Episode 700\tAverage Score: 0.02\n",
      "Episode 800\tAverage Score: 0.02\n",
      "Episode 900\tAverage Score: 0.05\n",
      "Episode 1000\tAverage Score: 0.06\n",
      "Episode 1100\tAverage Score: 0.09\n",
      "Episode 1200\tAverage Score: 0.13\n",
      "Episode 1300\tAverage Score: 0.08\n",
      "Episode 1400\tAverage Score: 0.16\n",
      "Episode 1500\tAverage Score: 0.26\n",
      "Episode 1600\tAverage Score: 0.09\n",
      "Episode 1668\tAverage Score: 0.49\n",
      "Environment solved in 1669 episodes!\tAverage Score: 0.50\n",
      "Episode 1669\tAverage Score: 0.50\n",
      "Environment solved in 1670 episodes!\tAverage Score: 0.51\n",
      "Episode 1670\tAverage Score: 0.51\n",
      "Environment solved in 1671 episodes!\tAverage Score: 0.52\n",
      "Episode 1671\tAverage Score: 0.52\n",
      "Environment solved in 1672 episodes!\tAverage Score: 0.53\n",
      "Episode 1672\tAverage Score: 0.53\n",
      "Environment solved in 1673 episodes!\tAverage Score: 0.54\n",
      "Episode 1673\tAverage Score: 0.54\n",
      "Environment solved in 1674 episodes!\tAverage Score: 0.54\n",
      "Episode 1674\tAverage Score: 0.54\n",
      "Environment solved in 1675 episodes!\tAverage Score: 0.56\n",
      "Episode 1675\tAverage Score: 0.56\n",
      "Environment solved in 1676 episodes!\tAverage Score: 0.57\n",
      "Episode 1676\tAverage Score: 0.57\n",
      "Environment solved in 1677 episodes!\tAverage Score: 0.57\n",
      "Episode 1677\tAverage Score: 0.57\n",
      "Environment solved in 1678 episodes!\tAverage Score: 0.59\n",
      "Episode 1678\tAverage Score: 0.59\n",
      "Environment solved in 1679 episodes!\tAverage Score: 0.60\n",
      "Episode 1679\tAverage Score: 0.60\n",
      "Environment solved in 1680 episodes!\tAverage Score: 0.61\n",
      "Episode 1680\tAverage Score: 0.61\n",
      "Environment solved in 1681 episodes!\tAverage Score: 0.60\n",
      "Episode 1681\tAverage Score: 0.60\n",
      "Environment solved in 1682 episodes!\tAverage Score: 0.60\n",
      "Episode 1682\tAverage Score: 0.60\n",
      "Environment solved in 1683 episodes!\tAverage Score: 0.63\n",
      "Episode 1683\tAverage Score: 0.63\n",
      "Environment solved in 1684 episodes!\tAverage Score: 0.65\n",
      "Episode 1684\tAverage Score: 0.65\n",
      "Environment solved in 1685 episodes!\tAverage Score: 0.65\n",
      "Episode 1685\tAverage Score: 0.65\n",
      "Environment solved in 1686 episodes!\tAverage Score: 0.67\n",
      "Episode 1686\tAverage Score: 0.67\n",
      "Environment solved in 1687 episodes!\tAverage Score: 0.69\n",
      "Episode 1687\tAverage Score: 0.69\n",
      "Environment solved in 1688 episodes!\tAverage Score: 0.70\n",
      "Episode 1688\tAverage Score: 0.70\n",
      "Environment solved in 1689 episodes!\tAverage Score: 0.72\n",
      "Episode 1689\tAverage Score: 0.72\n",
      "Environment solved in 1690 episodes!\tAverage Score: 0.72\n",
      "Episode 1690\tAverage Score: 0.72\n",
      "Environment solved in 1691 episodes!\tAverage Score: 0.73\n",
      "Episode 1691\tAverage Score: 0.73\n",
      "Environment solved in 1692 episodes!\tAverage Score: 0.73\n",
      "Episode 1692\tAverage Score: 0.73\n",
      "Environment solved in 1693 episodes!\tAverage Score: 0.74\n",
      "Episode 1693\tAverage Score: 0.74\n",
      "Environment solved in 1694 episodes!\tAverage Score: 0.75\n",
      "Episode 1694\tAverage Score: 0.75\n",
      "Environment solved in 1695 episodes!\tAverage Score: 0.75\n",
      "Episode 1695\tAverage Score: 0.75\n",
      "Environment solved in 1696 episodes!\tAverage Score: 0.77\n",
      "Episode 1696\tAverage Score: 0.77\n",
      "Environment solved in 1697 episodes!\tAverage Score: 0.78\n",
      "Episode 1697\tAverage Score: 0.78\n",
      "Environment solved in 1698 episodes!\tAverage Score: 0.78\n",
      "Episode 1698\tAverage Score: 0.78\n",
      "Environment solved in 1699 episodes!\tAverage Score: 0.80\n",
      "Episode 1699\tAverage Score: 0.80\n",
      "Environment solved in 1700 episodes!\tAverage Score: 0.81\n",
      "Episode 1700\tAverage Score: 0.81\n",
      "\n",
      "Environment solved in 1701 episodes!\tAverage Score: 0.82\n",
      "Episode 1701\tAverage Score: 0.82\n",
      "Environment solved in 1702 episodes!\tAverage Score: 0.82\n",
      "Episode 1702\tAverage Score: 0.82\n",
      "Environment solved in 1703 episodes!\tAverage Score: 0.83\n",
      "Episode 1703\tAverage Score: 0.83\n",
      "Environment solved in 1704 episodes!\tAverage Score: 0.83\n",
      "Episode 1704\tAverage Score: 0.83\n",
      "Environment solved in 1705 episodes!\tAverage Score: 0.86\n",
      "Episode 1705\tAverage Score: 0.86\n",
      "Environment solved in 1706 episodes!\tAverage Score: 0.86\n",
      "Episode 1706\tAverage Score: 0.86\n",
      "Environment solved in 1707 episodes!\tAverage Score: 0.86\n",
      "Episode 1707\tAverage Score: 0.86\n",
      "Environment solved in 1708 episodes!\tAverage Score: 0.86\n",
      "Episode 1708\tAverage Score: 0.86\n",
      "Environment solved in 1709 episodes!\tAverage Score: 0.88\n",
      "Episode 1709\tAverage Score: 0.88\n",
      "Environment solved in 1710 episodes!\tAverage Score: 0.88\n",
      "Episode 1710\tAverage Score: 0.88\n",
      "Environment solved in 1711 episodes!\tAverage Score: 0.89\n",
      "Episode 1711\tAverage Score: 0.89\n",
      "Environment solved in 1712 episodes!\tAverage Score: 0.90\n",
      "Episode 1712\tAverage Score: 0.90\n",
      "Environment solved in 1713 episodes!\tAverage Score: 0.90\n",
      "Episode 1713\tAverage Score: 0.90\n",
      "Environment solved in 1714 episodes!\tAverage Score: 0.91\n",
      "Episode 1714\tAverage Score: 0.91\n",
      "Environment solved in 1715 episodes!\tAverage Score: 0.92\n",
      "Episode 1715\tAverage Score: 0.92\n",
      "Environment solved in 1716 episodes!\tAverage Score: 0.92\n",
      "Episode 1716\tAverage Score: 0.92\n",
      "Environment solved in 1717 episodes!\tAverage Score: 0.92\n",
      "Episode 1717\tAverage Score: 0.92\n",
      "Environment solved in 1718 episodes!\tAverage Score: 0.93\n",
      "Episode 1718\tAverage Score: 0.93\n",
      "Environment solved in 1719 episodes!\tAverage Score: 0.94\n",
      "Episode 1719\tAverage Score: 0.94\n",
      "Environment solved in 1720 episodes!\tAverage Score: 0.94\n",
      "Episode 1720\tAverage Score: 0.94\n",
      "Environment solved in 1721 episodes!\tAverage Score: 0.96\n",
      "Episode 1721\tAverage Score: 0.96\n",
      "Environment solved in 1722 episodes!\tAverage Score: 0.98\n",
      "Episode 1722\tAverage Score: 0.98\n",
      "Environment solved in 1723 episodes!\tAverage Score: 0.97\n",
      "Episode 1723\tAverage Score: 0.97\n",
      "Environment solved in 1724 episodes!\tAverage Score: 0.99\n",
      "Episode 1724\tAverage Score: 0.99\n",
      "Environment solved in 1725 episodes!\tAverage Score: 1.01\n",
      "Episode 1725\tAverage Score: 1.01The average (over 100 episodes) of the scores is 1.0, the training was stopped\n"
     ]
    }
   ],
   "source": [
    "# Interact with environment\n",
    "scores = interact(\n",
    "    env,\n",
    "    agent,\n",
    "    brain_name=brain_name,\n",
    "    n_episodes=2000\n",
    ")"
   ]
  },
  {
   "cell_type": "markdown",
   "metadata": {},
   "source": [
    "### 4.3 Plot results"
   ]
  },
  {
   "cell_type": "code",
   "execution_count": 22,
   "metadata": {},
   "outputs": [
    {
     "data": {
      "image/png": "[encoded data removed]",
      "text/plain": [
       "<matplotlib.figure.Figure at 0x7f6c44052780>"
      ]
     },
     "metadata": {
      "needs_background": "light"
     },
     "output_type": "display_data"
    }
   ],
   "source": [
    "import matplotlib.pyplot as plt\n",
    "import pandas as pd\n",
    "%matplotlib inline\n",
    "\n",
    "# Create dataframe\n",
    "data = pd.DataFrame(data={'score': scores})\n",
    "\n",
    "# Define metrics\n",
    "ma = data.rolling(100, min_periods=1).mean()\n",
    "x = range(len(scores))\n",
    "\n",
    "# Plot data\n",
    "fig, ax = plt.subplots(figsize=(15, 5))\n",
    "\n",
    "ax.axvline(x=1669, ls='--', color='r')\n",
    "\n",
    "ax.annotate(\n",
    "    'env solved', \n",
    "    xy=(1669, 1.7), \n",
    "    xytext=(1400, 1.7),\n",
    "    arrowprops=dict(facecolor='black', shrink=0.05),\n",
    "    )\n",
    "\n",
    "ax.plot(x, scores, 'o', color='tab:blue', label='scores')\n",
    "ax.plot(x, ma, color='tab:red', label='Moving Average')\n",
    "\n",
    "ax.set_xlabel('episodes')\n",
    "ax.set_ylabel('score')\n",
    "plt.legend()\n",
    "plt.show()"
   ]
  },
  {
   "cell_type": "code",
   "execution_count": 23,
   "metadata": {},
   "outputs": [],
   "source": [
    "env.close()"
   ]
  },
  {
   "cell_type": "markdown",
   "metadata": {},
   "source": [
    "When finished, you can close the environment."
   ]
  }
 ],
 "metadata": {
  "kernelspec": {
   "display_name": "Python 3",
   "language": "python",
   "name": "python3"
  },
  "language_info": {
   "codemirror_mode": {
    "name": "ipython",
    "version": 3
   },
   "file_extension": ".py",
   "mimetype": "text/x-python",
   "name": "python",
   "nbconvert_exporter": "python",
   "pygments_lexer": "ipython3",
   "version": "3.6.3"
  }
 },
 "nbformat": 4,
 "nbformat_minor": 2
}